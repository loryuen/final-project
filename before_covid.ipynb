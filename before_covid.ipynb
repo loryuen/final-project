{
 "cells": [
  {
   "cell_type": "code",
   "execution_count": 5,
   "metadata": {},
   "outputs": [],
   "source": [
    "import pandas as pd\n",
    "import numpy as np\n",
    "\n",
    "df = pd.read_csv(\"before_covid.csv\")"
   ]
  },
  {
   "cell_type": "code",
   "execution_count": 6,
   "metadata": {},
   "outputs": [
    {
     "data": {
      "text/html": [
       "<div>\n",
       "<style scoped>\n",
       "    .dataframe tbody tr th:only-of-type {\n",
       "        vertical-align: middle;\n",
       "    }\n",
       "\n",
       "    .dataframe tbody tr th {\n",
       "        vertical-align: top;\n",
       "    }\n",
       "\n",
       "    .dataframe thead th {\n",
       "        text-align: right;\n",
       "    }\n",
       "</style>\n",
       "<table border=\"1\" class=\"dataframe\">\n",
       "  <thead>\n",
       "    <tr style=\"text-align: right;\">\n",
       "      <th></th>\n",
       "      <th>Date</th>\n",
       "      <th>Daily Mean PM2.5 Concentration</th>\n",
       "      <th>STATE</th>\n",
       "    </tr>\n",
       "  </thead>\n",
       "  <tbody>\n",
       "    <tr>\n",
       "      <td>0</td>\n",
       "      <td>1/1/20</td>\n",
       "      <td>5.4</td>\n",
       "      <td>Alabama</td>\n",
       "    </tr>\n",
       "    <tr>\n",
       "      <td>1</td>\n",
       "      <td>1/2/20</td>\n",
       "      <td>5.9</td>\n",
       "      <td>Alabama</td>\n",
       "    </tr>\n",
       "    <tr>\n",
       "      <td>2</td>\n",
       "      <td>1/3/20</td>\n",
       "      <td>5.5</td>\n",
       "      <td>Alabama</td>\n",
       "    </tr>\n",
       "    <tr>\n",
       "      <td>3</td>\n",
       "      <td>1/4/20</td>\n",
       "      <td>5.3</td>\n",
       "      <td>Alabama</td>\n",
       "    </tr>\n",
       "    <tr>\n",
       "      <td>4</td>\n",
       "      <td>1/5/20</td>\n",
       "      <td>5.4</td>\n",
       "      <td>Alabama</td>\n",
       "    </tr>\n",
       "  </tbody>\n",
       "</table>\n",
       "</div>"
      ],
      "text/plain": [
       "     Date  Daily Mean PM2.5 Concentration    STATE\n",
       "0  1/1/20                             5.4  Alabama\n",
       "1  1/2/20                             5.9  Alabama\n",
       "2  1/3/20                             5.5  Alabama\n",
       "3  1/4/20                             5.3  Alabama\n",
       "4  1/5/20                             5.4  Alabama"
      ]
     },
     "execution_count": 6,
     "metadata": {},
     "output_type": "execute_result"
    }
   ],
   "source": [
    "df.head()"
   ]
  },
  {
   "cell_type": "code",
   "execution_count": 7,
   "metadata": {},
   "outputs": [
    {
     "data": {
      "text/plain": [
       "STATE\n",
       "Alabama                 6.971141\n",
       "Alaska                  7.130573\n",
       "Arizona                 8.938945\n",
       "Arkansas                6.013043\n",
       "California              9.296733\n",
       "Colorado                6.441677\n",
       "Connecticut             8.099156\n",
       "Delaware                7.737466\n",
       "District Of Columbia    6.602749\n",
       "Florida                 7.953676\n",
       "Georgia                 7.022597\n",
       "Hawaii                  3.355878\n",
       "Idaho                   6.593095\n",
       "Illinois                9.031291\n",
       "Indiana                 9.051696\n",
       "Iowa                    8.547577\n",
       "Kansas                  6.293007\n",
       "Kentucky                7.988668\n",
       "Louisiana               5.939219\n",
       "Maine                   6.470705\n",
       "Maryland                5.714351\n",
       "Massachusetts           7.995795\n",
       "Michigan                7.400673\n",
       "Minnesota               6.883523\n",
       "Mississippi             7.809581\n",
       "Missouri                6.964362\n",
       "Montana                 5.289546\n",
       "Nebraska                6.006996\n",
       "Nevada                  7.182641\n",
       "New Hampshire           5.489189\n",
       "New Jersey              8.055506\n",
       "New Mexico              5.222750\n",
       "New York                7.803641\n",
       "North Carolina          5.673620\n",
       "North Dakota            4.367947\n",
       "Ohio                    8.018303\n",
       "Oklahoma                6.478324\n",
       "Oregon                  6.577648\n",
       "Pennsylvania            8.707215\n",
       "Rhode Island            5.001523\n",
       "South Carolina          5.907841\n",
       "South Dakota            5.000189\n",
       "Tennessee               5.423648\n",
       "Texas                   6.530584\n",
       "Utah                    6.557882\n",
       "Vermont                 7.783750\n",
       "Virginia                5.600893\n",
       "Washington              4.905861\n",
       "West Virginia           6.491667\n",
       "Wisconsin               8.192256\n",
       "Wyoming                 1.621649\n",
       "Name: Daily Mean PM2.5 Concentration, dtype: float64"
      ]
     },
     "execution_count": 7,
     "metadata": {},
     "output_type": "execute_result"
    }
   ],
   "source": [
    "df.groupby('STATE')['Daily Mean PM2.5 Concentration'].mean()"
   ]
  },
  {
   "cell_type": "code",
   "execution_count": 8,
   "metadata": {},
   "outputs": [],
   "source": [
    "df.to_csv('before_averages.csv')"
   ]
  },
  {
   "cell_type": "code",
   "execution_count": null,
   "metadata": {},
   "outputs": [],
   "source": []
  }
 ],
 "metadata": {
  "kernelspec": {
   "display_name": "Python 3",
   "language": "python",
   "name": "python3"
  },
  "language_info": {
   "codemirror_mode": {
    "name": "ipython",
    "version": 3
   },
   "file_extension": ".py",
   "mimetype": "text/x-python",
   "name": "python",
   "nbconvert_exporter": "python",
   "pygments_lexer": "ipython3",
   "version": "3.7.4"
  }
 },
 "nbformat": 4,
 "nbformat_minor": 2
}
