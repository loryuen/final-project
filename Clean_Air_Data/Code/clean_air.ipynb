{
 "cells": [
  {
   "cell_type": "code",
   "execution_count": 1,
   "metadata": {},
   "outputs": [],
   "source": [
    "import json  \n",
    "import pandas as pd  \n",
    "from pandas.io.json import json_normalize  "
   ]
  },
  {
   "cell_type": "code",
   "execution_count": 3,
   "metadata": {
    "scrolled": true
   },
   "outputs": [
    {
     "data": {
      "text/html": [
       "<div>\n",
       "<style scoped>\n",
       "    .dataframe tbody tr th:only-of-type {\n",
       "        vertical-align: middle;\n",
       "    }\n",
       "\n",
       "    .dataframe tbody tr th {\n",
       "        vertical-align: top;\n",
       "    }\n",
       "\n",
       "    .dataframe thead th {\n",
       "        text-align: right;\n",
       "    }\n",
       "</style>\n",
       "<table border=\"1\" class=\"dataframe\">\n",
       "  <thead>\n",
       "    <tr style=\"text-align: right;\">\n",
       "      <th></th>\n",
       "      <th>Unnamed: 0</th>\n",
       "      <th>Date</th>\n",
       "      <th>Country</th>\n",
       "      <th>City</th>\n",
       "      <th>Specie</th>\n",
       "      <th>count</th>\n",
       "      <th>min</th>\n",
       "      <th>max</th>\n",
       "      <th>median</th>\n",
       "      <th>variance</th>\n",
       "    </tr>\n",
       "  </thead>\n",
       "  <tbody>\n",
       "    <tr>\n",
       "      <td>0</td>\n",
       "      <td>0</td>\n",
       "      <td>2019-11-02</td>\n",
       "      <td>HU</td>\n",
       "      <td>Debrecen</td>\n",
       "      <td>o3</td>\n",
       "      <td>72</td>\n",
       "      <td>1.9</td>\n",
       "      <td>12.2</td>\n",
       "      <td>7.0</td>\n",
       "      <td>59.60</td>\n",
       "    </tr>\n",
       "    <tr>\n",
       "      <td>1</td>\n",
       "      <td>1</td>\n",
       "      <td>2019-11-11</td>\n",
       "      <td>HU</td>\n",
       "      <td>Debrecen</td>\n",
       "      <td>o3</td>\n",
       "      <td>66</td>\n",
       "      <td>0.6</td>\n",
       "      <td>15.2</td>\n",
       "      <td>7.1</td>\n",
       "      <td>151.12</td>\n",
       "    </tr>\n",
       "    <tr>\n",
       "      <td>2</td>\n",
       "      <td>2</td>\n",
       "      <td>2019-11-12</td>\n",
       "      <td>HU</td>\n",
       "      <td>Debrecen</td>\n",
       "      <td>o3</td>\n",
       "      <td>65</td>\n",
       "      <td>2.3</td>\n",
       "      <td>18.9</td>\n",
       "      <td>12.0</td>\n",
       "      <td>193.29</td>\n",
       "    </tr>\n",
       "    <tr>\n",
       "      <td>3</td>\n",
       "      <td>3</td>\n",
       "      <td>2019-12-22</td>\n",
       "      <td>HU</td>\n",
       "      <td>Debrecen</td>\n",
       "      <td>o3</td>\n",
       "      <td>45</td>\n",
       "      <td>11.3</td>\n",
       "      <td>24.1</td>\n",
       "      <td>18.6</td>\n",
       "      <td>110.54</td>\n",
       "    </tr>\n",
       "    <tr>\n",
       "      <td>4</td>\n",
       "      <td>4</td>\n",
       "      <td>2020-01-05</td>\n",
       "      <td>HU</td>\n",
       "      <td>Debrecen</td>\n",
       "      <td>o3</td>\n",
       "      <td>34</td>\n",
       "      <td>1.6</td>\n",
       "      <td>26.4</td>\n",
       "      <td>16.7</td>\n",
       "      <td>586.81</td>\n",
       "    </tr>\n",
       "  </tbody>\n",
       "</table>\n",
       "</div>"
      ],
      "text/plain": [
       "   Unnamed: 0        Date Country      City Specie  count   min   max  median  \\\n",
       "0           0  2019-11-02      HU  Debrecen     o3     72   1.9  12.2     7.0   \n",
       "1           1  2019-11-11      HU  Debrecen     o3     66   0.6  15.2     7.1   \n",
       "2           2  2019-11-12      HU  Debrecen     o3     65   2.3  18.9    12.0   \n",
       "3           3  2019-12-22      HU  Debrecen     o3     45  11.3  24.1    18.6   \n",
       "4           4  2020-01-05      HU  Debrecen     o3     34   1.6  26.4    16.7   \n",
       "\n",
       "   variance  \n",
       "0     59.60  \n",
       "1    151.12  \n",
       "2    193.29  \n",
       "3    110.54  \n",
       "4    586.81  "
      ]
     },
     "execution_count": 3,
     "metadata": {},
     "output_type": "execute_result"
    }
   ],
   "source": [
    "#get air quality data\n",
    "air=pd.read_csv(\"../Resources/includes2019.csv\")\n",
    "air.head()"
   ]
  },
  {
   "cell_type": "code",
   "execution_count": null,
   "metadata": {},
   "outputs": [],
   "source": [
    "#only pm25 data\n",
    "pm25=air['Specie']=='pm25'\n",
    "air2=air[pm25]\n",
    "air2.to_csv('../2020_pm25.csv')\n",
    "air2.head()"
   ]
  },
  {
   "cell_type": "code",
   "execution_count": null,
   "metadata": {
    "scrolled": false
   },
   "outputs": [],
   "source": [
    "#read in json and convert to dataframe and clean up\n",
    "d=pd.read_json('../Resources/cities.json')\n",
    "geo = json_normalize(d['data']) \n",
    "geo = geo.rename(columns={\"Place.geo\": \"Coords\", \"Place.feature\": \"Feature\", \"Place.name\":\"City\",\"Place.country\":\"Country\", \"Place.pop\":\"Pop\"})\n",
    "geo[['Lat','Long']] = pd.DataFrame(geo.Coords.values.tolist(), index= geo.index)\n",
    "geo = geo[['City','Country','Pop', 'Lat', 'Long']]\n",
    "geo.to_csv('../geo_data.csv')\n",
    "geo.head()"
   ]
  },
  {
   "cell_type": "code",
   "execution_count": null,
   "metadata": {
    "scrolled": true
   },
   "outputs": [],
   "source": [
    "#merge\n",
    "together = pd.merge(air2,geo)\n",
    "together.to_csv('../2020_combined.csv')\n",
    "together.head()\n"
   ]
  },
  {
   "cell_type": "code",
   "execution_count": null,
   "metadata": {},
   "outputs": [],
   "source": []
  }
 ],
 "metadata": {
  "kernelspec": {
   "display_name": "Python 3",
   "language": "python",
   "name": "python3"
  },
  "language_info": {
   "codemirror_mode": {
    "name": "ipython",
    "version": 3
   },
   "file_extension": ".py",
   "mimetype": "text/x-python",
   "name": "python",
   "nbconvert_exporter": "python",
   "pygments_lexer": "ipython3",
   "version": "3.7.4"
  }
 },
 "nbformat": 4,
 "nbformat_minor": 2
}
